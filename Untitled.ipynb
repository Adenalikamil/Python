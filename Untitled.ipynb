{
 "cells": [
  {
   "cell_type": "markdown",
   "metadata": {},
   "source": [
    "## Calculer une estimation de population 2050"
   ]
  },
  {
   "cell_type": "code",
   "execution_count": 65,
   "metadata": {},
   "outputs": [],
   "source": [
    "import pandas as pd\n",
    "import sqlite3\n",
    "import math\n",
    "\n",
    "connexion= sqlite3.connect('factbook.db')\n",
    "a= pd.read_sql_query('SELECT * FROM facts;',con=connexion)\n",
    "\n",
    "# dropna()<- supprime les valeur manquante\n",
    "# N=N0*e**(r*t) ou N0= la population initiale, N= population finale, e= exponentielle, r= taux de croissante\n",
    "# t= nbre d'années entre l'estimation et l'initiale\n",
    "# exemple un pays de 5000 habitants, taux de croissance 4% et 2015<-2050 t=35"
   ]
  },
  {
   "cell_type": "code",
   "execution_count": 66,
   "metadata": {
    "scrolled": true
   },
   "outputs": [
    {
     "name": "stdout",
     "output_type": "stream",
     "text": [
      "76                                 India\n",
      "36                                 China\n",
      "128                              Nigeria\n",
      "185                        United States\n",
      "77                             Indonesia\n",
      "131                             Pakistan\n",
      "13                            Bangladesh\n",
      "23                                Brazil\n",
      "39     Congo, Democratic Republic of the\n",
      "Name: name, dtype: object\n"
     ]
    }
   ],
   "source": [
    "## définition de la fonction qui calcule une estimation de la population en 2\n",
    "def pop_growth(x):\n",
    "    return x['population']*math.e**((x['population_growth']/100)*35)\n",
    "\n",
    "a['pop_2050']=a.apply( lambda row: pop_growth(row),axis=1)\n",
    "#print(a)\n",
    "\n",
    "a=a.dropna(axis=0) # supprimer les NA\n",
    "\n",
    "#On filtre les pays qui ont une surface terrestre > 0 et une population >\n",
    "a= a[(a['area_land']>0) & (a['population']>0)]\n",
    "\n",
    "\n",
    "# # On trie les pays par population décroissante\n",
    "b= a.sort_values(['pop_2050'],ascending=[False])\n",
    "## On assigne à la variable b les noms des pays correspondants limités à 10 \n",
    "b=b[('name')].iloc[0:9]\n",
    "print(b)"
   ]
  },
  {
   "cell_type": "code",
   "execution_count": 69,
   "metadata": {},
   "outputs": [
    {
     "name": "stdout",
     "output_type": "stream",
     "text": [
      "0    28.390657\n",
      "dtype: float64\n"
     ]
    }
   ],
   "source": [
    "d=pd.read_sql_query('SELECT sum(area_land),sum(area_water) FROM facts WHERE area_land !=\"\";', con=connexion)\n",
    "print(d['sum(area_land)']/d['sum(area_water)'])"
   ]
  },
  {
   "cell_type": "code",
   "execution_count": 70,
   "metadata": {},
   "outputs": [
    {
     "name": "stdout",
     "output_type": "stream",
     "text": [
      "[(228,)]\n"
     ]
    }
   ],
   "source": [
    "## nombre des valeurs non nulles\n",
    "brith_water=connexion.execute('SELECT count(birth_rate) FROM facts;').fetchall()\n",
    "print(brith_water)\n"
   ]
  },
  {
   "cell_type": "code",
   "execution_count": 71,
   "metadata": {},
   "outputs": [
    {
     "name": "stdout",
     "output_type": "stream",
     "text": [
      "228\n"
     ]
    }
   ],
   "source": [
    "bri=brith_water[0][0]\n",
    "print(bri)"
   ]
  },
  {
   "cell_type": "code",
   "execution_count": 72,
   "metadata": {},
   "outputs": [
    {
     "name": "stdout",
     "output_type": "stream",
     "text": [
      "0.0\n",
      "14.89\n"
     ]
    }
   ],
   "source": [
    "### Min et Max d'une variable numerique\n",
    "min_population_growth=connexion.execute('SELECT min(population_growth) FROM facts; ').fetchall()\n",
    "print(min_population_growth[0][0])\n",
    "max_death_rate= connexion.execute('SELECT max(death_rate) FROM facts;').fetchall()\n",
    "print(max_death_rate[0][0])"
   ]
  },
  {
   "cell_type": "markdown",
   "metadata": {},
   "source": [
    "## SOMMES ET MOYENNES"
   ]
  },
  {
   "cell_type": "code",
   "execution_count": 73,
   "metadata": {},
   "outputs": [
    {
     "name": "stdout",
     "output_type": "stream",
     "text": [
      "128584834\n",
      "19067.59259259259\n"
     ]
    }
   ],
   "source": [
    "sum_area_land=connexion.execute('SELECT SUM(area_land) FROM facts;').fetchall()\n",
    "print(sum_area_land[0][0])\n",
    "moyenne_area_water=connexion.execute('SELECT AVG(area_water) FROM facts;').fetchall()\n",
    "print(moyenne_area_water[0][0])"
   ]
  },
  {
   "cell_type": "code",
   "execution_count": 77,
   "metadata": {},
   "outputs": [
    {
     "name": "stdout",
     "output_type": "stream",
     "text": [
      "[(0, 16377742, 522702.57723577233, 128584834)]\n"
     ]
    }
   ],
   "source": [
    "#### Combiner plusieur calcul\n",
    "combine_area_land=connexion.execute('SELECT MIN(area_land),MAX(area_land),AVG(area_land),SUM(area_land) FROM facts;').fetchall()\n",
    "\n",
    "print(combine_area_land)"
   ]
  },
  {
   "cell_type": "code",
   "execution_count": null,
   "metadata": {},
   "outputs": [],
   "source": [
    "# une requete qui calcule:\n",
    "#La moyenne de la colonne population\n",
    "#la somme de la colonne population\n",
    "#le maximum de la colonne birth_rate"
   ]
  },
  {
   "cell_type": "code",
   "execution_count": 97,
   "metadata": {},
   "outputs": [
    {
     "name": "stdout",
     "output_type": "stream",
     "text": [
      "[(62094928.32231405, 15026972654, 45.45)]\n"
     ]
    }
   ],
   "source": [
    "bob=connexion.execute('SELECT AVG(population),SUM(population),MAX(birth_rate) FROM facts;').fetchall()\n",
    "print(bob)\n",
    "moy_population=bob[0][0]\n",
    "sum_population=bob[0][1]\n",
    "max_birth=bob[0][2]"
   ]
  },
  {
   "cell_type": "code",
   "execution_count": 96,
   "metadata": {},
   "outputs": [
    {
     "name": "stdout",
     "output_type": "stream",
     "text": [
      "62094928.32231405\n",
      "15026972654\n",
      "45.45\n"
     ]
    }
   ],
   "source": [
    "print(moy_population)\n",
    "print(sum_population)\n",
    "print(max_birth)"
   ]
  },
  {
   "cell_type": "markdown",
   "metadata": {},
   "source": [
    "## Associer les fonction  de calcul avec la condition WHERE\n"
   ]
  },
  {
   "cell_type": "code",
   "execution_count": 101,
   "metadata": {},
   "outputs": [
    {
     "name": "stdout",
     "output_type": "stream",
     "text": [
      "1.4572222222222226\n"
     ]
    }
   ],
   "source": [
    "asso=connexion.execute('SELECT AVG(population_growth) FROM facts WHERE population>10000000;').fetchall()\n",
    "print(asso[0][0])"
   ]
  },
  {
   "cell_type": "code",
   "execution_count": 107,
   "metadata": {},
   "outputs": [
    {
     "name": "stdout",
     "output_type": "stream",
     "text": [
      "[(38.57,), (12.92,), (23.67,), (8.13,), (38.78,)]\n"
     ]
    }
   ],
   "source": [
    "### Sélectionner des colonnes\n",
    "\n",
    "select_col=connexion.execute('SELECT DISTINCT birth_rate FROM facts;').fetchall()\n",
    "print(select_col[0:5])"
   ]
  },
  {
   "cell_type": "code",
   "execution_count": 111,
   "metadata": {},
   "outputs": [
    {
     "name": "stdout",
     "output_type": "stream",
     "text": [
      "20.43473684210527\n"
     ]
    }
   ],
   "source": [
    "## DISTINCT\n",
    "# birth_rate\n",
    "birth_distinct=connexion.execute('SELECT AVG(DISTINCT birth_rate) FROM facts WHERE population>20000000 ;').fetchall()\n",
    "print(birth_distinct[0][0])"
   ]
  },
  {
   "cell_type": "code",
   "execution_count": 113,
   "metadata": {},
   "outputs": [
    {
     "name": "stdout",
     "output_type": "stream",
     "text": [
      "4233873015\n"
     ]
    }
   ],
   "source": [
    "# Population\n",
    "pop_distinct=connexion.execute('SELECT SUM(DISTINCT population) FROM facts WHERE area_land>1000000;').fetchall()\n",
    "print(pop_distinct[0][0])"
   ]
  },
  {
   "cell_type": "code",
   "execution_count": 122,
   "metadata": {},
   "outputs": [
    {
     "name": "stdout",
     "output_type": "stream",
     "text": [
      "[(2.32e-06,), (3e-07,), (1.8400000000000002e-06,), (1.2e-07,), (2.7799999999999996e-06,)]\n"
     ]
    }
   ],
   "source": [
    "## Affichant les valeur de la colonne population_growth en million\n",
    "mill_population_growth=connexion.execute('SELECT population_growth/1000000 FROM facts;').fetchall()\n",
    "print(mill_population_growth[0:5])"
   ]
  },
  {
   "cell_type": "code",
   "execution_count": 131,
   "metadata": {},
   "outputs": [
    {
     "name": "stdout",
     "output_type": "stream",
     "text": [
      "[('Afghanistan', 108113615.44), ('Albania', 3938061.4), ('Algeria', 112299751.44), ('Andorra', 95849.6), ('Angola', 74183834.34)]\n"
     ]
    }
   ],
   "source": [
    "## \n",
    "aug=connexion.execute('SELECT name,population*(population_growth+1) FROM facts;').fetchall()\n",
    "print(aug[0:5])"
   ]
  },
  {
   "cell_type": "code",
   "execution_count": 132,
   "metadata": {},
   "outputs": [],
   "source": [
    "connexion.close()"
   ]
  }
 ],
 "metadata": {
  "kernelspec": {
   "display_name": "Python 3",
   "language": "python",
   "name": "python3"
  },
  "language_info": {
   "codemirror_mode": {
    "name": "ipython",
    "version": 3
   },
   "file_extension": ".py",
   "mimetype": "text/x-python",
   "name": "python",
   "nbconvert_exporter": "python",
   "pygments_lexer": "ipython3",
   "version": "3.7.3"
  }
 },
 "nbformat": 4,
 "nbformat_minor": 2
}
