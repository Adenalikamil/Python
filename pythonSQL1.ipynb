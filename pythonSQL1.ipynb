{
 "cells": [
  {
   "cell_type": "markdown",
   "metadata": {},
   "source": [
    "## Connexion à la base de données\n"
   ]
  },
  {
   "cell_type": "code",
   "execution_count": 6,
   "metadata": {},
   "outputs": [],
   "source": [
    "import sqlite3\n",
    "connexion=sqlite3.connect('jobs.db')"
   ]
  },
  {
   "cell_type": "markdown",
   "metadata": {},
   "source": [
    "## Créer un curseur et exécuter une requete SQL sur Python"
   ]
  },
  {
   "cell_type": "code",
   "execution_count": 10,
   "metadata": {},
   "outputs": [
    {
     "name": "stdout",
     "output_type": "stream",
     "text": [
      "1\n"
     ]
    }
   ],
   "source": [
    "liste=[1,'Ibado']\n",
    "print(liste[0])\n",
    "t=('pomme','banna')\n",
    "aplle=t[0]\n",
    "print(aplle)"
   ]
  },
  {
   "cell_type": "code",
   "execution_count": 15,
   "metadata": {},
   "outputs": [],
   "source": [
    "cursor= connexion.cursor()\n",
    "# requete sql qu'on assigne à la variable query en tant que chaine de charactère String\n",
    "query=\"select * from recent_grads;\""
   ]
  },
  {
   "cell_type": "code",
   "execution_count": 17,
   "metadata": {},
   "outputs": [
    {
     "data": {
      "text/plain": [
       "<sqlite3.Cursor at 0x7ff198853ea0>"
      ]
     },
     "execution_count": 17,
     "metadata": {},
     "output_type": "execute_result"
    }
   ],
   "source": [
    "# exécuter le requete sql situé dans la varible query et ce curseur convertie les résultats en tuple et \n",
    "# le stoke dans une varible locale\n",
    "cursor.execute(query)"
   ]
  },
  {
   "cell_type": "code",
   "execution_count": 21,
   "metadata": {},
   "outputs": [],
   "source": [
    "# cherche tout les résultats qu'on a récupéré sous la forme d'une liste de tuple et\n",
    "# qu'on assigne la vriable results\n",
    "results=cursor.fetchall()"
   ]
  },
  {
   "cell_type": "code",
   "execution_count": 23,
   "metadata": {},
   "outputs": [
    {
     "name": "stdout",
     "output_type": "stream",
     "text": [
      "[(0, 1, 2419, 'PETROLEUM ENGINEERING', 'Engineering', 2339, 36, 2057, 282, 0.120564344, 1976, 1849, 270, 1207, 37, 0.018380527, 110000, 95000, 125000, 1534, 364, 193), (1, 2, 2416, 'MINING AND MINERAL ENGINEERING', 'Engineering', 756, 7, 679, 77, 0.10185185199999999, 640, 556, 170, 388, 85, 0.117241379, 75000, 55000, 90000, 350, 257, 50), (2, 3, 2415, 'METALLURGICAL ENGINEERING', 'Engineering', 856, 3, 725, 131, 0.153037383, 648, 558, 133, 340, 16, 0.024096386, 73000, 50000, 105000, 456, 176, 0), (3, 4, 2417, 'NAVAL ARCHITECTURE AND MARINE ENGINEERING', 'Engineering', 1258, 16, 1123, 135, 0.107313196, 758, 1069, 150, 692, 40, 0.050125313, 70000, 43000, 80000, 529, 102, 0), (4, 5, 2405, 'CHEMICAL ENGINEERING', 'Engineering', 32260, 289, 21239, 11021, 0.341630502, 25694, 23170, 5180, 16697, 1672, 0.061097712, 65000, 50000, 75000, 18314, 4440, 972)]\n"
     ]
    }
   ],
   "source": [
    "print(results[0:5])"
   ]
  },
  {
   "cell_type": "code",
   "execution_count": 27,
   "metadata": {},
   "outputs": [
    {
     "name": "stdout",
     "output_type": "stream",
     "text": [
      "[('PETROLEUM ENGINEERING',), ('MINING AND MINERAL ENGINEERING',), ('METALLURGICAL ENGINEERING',), ('NAVAL ARCHITECTURE AND MARINE ENGINEERING',), ('CHEMICAL ENGINEERING',)]\n"
     ]
    }
   ],
   "source": [
    "major=\"SELECT Major FROM recent_grads;\"\n",
    "cursor.execute(major)\n",
    "resuls_major=cursor.fetchall()\n",
    "print(resuls_major[0:5])"
   ]
  },
  {
   "cell_type": "markdown",
   "metadata": {},
   "source": [
    "## Chercher un certain nombre de résultat"
   ]
  },
  {
   "cell_type": "code",
   "execution_count": 33,
   "metadata": {},
   "outputs": [
    {
     "data": {
      "text/plain": [
       "<sqlite3.Cursor at 0x7ff1986fb3b0>"
      ]
     },
     "execution_count": 33,
     "metadata": {},
     "output_type": "execute_result"
    }
   ],
   "source": [
    "#fetchone()\n",
    "#fetchmany()\n",
    "import sqlite3\n",
    "connexion= sqlite3.connect('jobs.db')\n",
    "cursor= connexion.cursor()\n",
    "query=\"SELECT Major,Major_category FROM recent_grads;\"\n",
    "cursor.execute(query)\n"
   ]
  },
  {
   "cell_type": "code",
   "execution_count": 39,
   "metadata": {},
   "outputs": [
    {
     "name": "stdout",
     "output_type": "stream",
     "text": [
      "('ASTRONOMY AND ASTROPHYSICS', 'Physical Sciences')\n",
      "('MECHANICAL ENGINEERING', 'Engineering')\n"
     ]
    }
   ],
   "source": [
    "first_result=cursor.fetchone()\n",
    "second_result=cursor.fetchone()\n",
    "print(first_result)\n",
    "print(second_result)"
   ]
  },
  {
   "cell_type": "code",
   "execution_count": 42,
   "metadata": {},
   "outputs": [
    {
     "name": "stdout",
     "output_type": "stream",
     "text": [
      "[('COURT REPORTING', 'Law & Public Policy'), ('COMPUTER SCIENCE', 'Computers & Mathematics'), ('FOOD SCIENCE', 'Agriculture & Natural Resources'), ('ELECTRICAL ENGINEERING TECHNOLOGY', 'Engineering'), ('MATERIALS ENGINEERING AND MATERIALS SCIENCE', 'Engineering')]\n"
     ]
    }
   ],
   "source": [
    "\n",
    "next_five_results=cursor.fetchmany(5)\n",
    "print(next_five_results)"
   ]
  },
  {
   "cell_type": "code",
   "execution_count": 46,
   "metadata": {},
   "outputs": [],
   "source": [
    "### Stopper la connexion à la base de données\n",
    "connexion= sqlite3.connect('jobs.db')\n",
    "connexion.close()"
   ]
  },
  {
   "cell_type": "markdown",
   "metadata": {},
   "source": [
    "## Exercice\n"
   ]
  },
  {
   "cell_type": "code",
   "execution_count": 1,
   "metadata": {},
   "outputs": [
    {
     "name": "stdout",
     "output_type": "stream",
     "text": [
      "[('ZOOLOGY',), ('VISUAL AND PERFORMING ARTS',), ('UNITED STATES HISTORY',), ('TREATMENT THERAPY PROFESSIONS',), ('TRANSPORTATION SCIENCES AND TECHNOLOGIES',), ('THEOLOGY AND RELIGIOUS VOCATIONS',), ('TEACHER EDUCATION: MULTIPLE LEVELS',), ('STUDIO ARTS',), ('STATISTICS AND DECISION SCIENCE',), ('SPECIAL NEEDS EDUCATION',), ('SOIL SCIENCE',), ('SOCIOLOGY',), ('SOCIAL WORK',), ('SOCIAL SCIENCE OR HISTORY TEACHER EDUCATION',), ('SOCIAL PSYCHOLOGY',), ('SECONDARY TEACHER EDUCATION',), ('SCIENCE AND COMPUTER TEACHER EDUCATION',), ('SCHOOL STUDENT COUNSELING',), ('PUBLIC POLICY',), ('PUBLIC ADMINISTRATION',), ('PSYCHOLOGY',), ('PRE-LAW AND LEGAL STUDIES',), ('POLITICAL SCIENCE AND GOVERNMENT',), ('PLANT SCIENCE AND AGRONOMY',), ('PHYSIOLOGY',), ('PHYSICS',), ('PHYSICAL SCIENCES',), ('PHYSICAL FITNESS PARKS RECREATION AND LEISURE',), ('PHYSICAL AND HEALTH EDUCATION TEACHING',), ('PHILOSOPHY AND RELIGIOUS STUDIES',), ('PHARMACY PHARMACEUTICAL SCIENCES AND ADMINISTRATION',), ('PHARMACOLOGY',), ('PETROLEUM ENGINEERING',), ('OTHER FOREIGN LANGUAGES',), ('OPERATIONS LOGISTICS AND E-COMMERCE',), ('OCEANOGRAPHY',), ('NUTRITION SCIENCES',), ('NURSING',), ('NUCLEAR, INDUSTRIAL RADIOLOGY, AND BIOLOGICAL TECHNOLOGIES',), ('NUCLEAR ENGINEERING',), ('NEUROSCIENCE',), ('NAVAL ARCHITECTURE AND MARINE ENGINEERING',), ('NATURAL RESOURCES MANAGEMENT',), ('MUSIC',), ('MULTI/INTERDISCIPLINARY STUDIES',), ('MULTI-DISCIPLINARY OR GENERAL SCIENCE',), ('MOLECULAR BIOLOGY',), ('MISCELLANEOUS SOCIAL SCIENCES',), ('MISCELLANEOUS PSYCHOLOGY',), ('MISCELLANEOUS HEALTH MEDICAL PROFESSIONS',), ('MISCELLANEOUS FINE ARTS',), ('MISCELLANEOUS ENGINEERING TECHNOLOGIES',), ('MISCELLANEOUS ENGINEERING',), ('MISCELLANEOUS EDUCATION',), ('MISCELLANEOUS BUSINESS & MEDICAL ADMINISTRATION',), ('MISCELLANEOUS BIOLOGY',), ('MISCELLANEOUS AGRICULTURE',), ('MINING AND MINERAL ENGINEERING',), ('MILITARY TECHNOLOGIES',), ('MICROBIOLOGY',), ('METALLURGICAL ENGINEERING',), ('MEDICAL TECHNOLOGIES TECHNICIANS',), ('MEDICAL ASSISTING SERVICES',), ('MECHANICAL ENGINEERING RELATED TECHNOLOGIES',), ('MECHANICAL ENGINEERING',), ('MATHEMATICS TEACHER EDUCATION',), ('MATHEMATICS AND COMPUTER SCIENCE',), ('MATHEMATICS',), ('MATERIALS SCIENCE',), ('MATERIALS ENGINEERING AND MATERIALS SCIENCE',), ('MASS MEDIA',), ('MARKETING AND MARKETING RESEARCH',), ('MANAGEMENT INFORMATION SYSTEMS AND STATISTICS',), ('LINGUISTICS AND COMPARATIVE LANGUAGE AND LITERATURE',), ('LIBRARY SCIENCE',), ('LIBERAL ARTS',), ('LANGUAGE AND DRAMA EDUCATION',), ('JOURNALISM',), ('INTERNATIONAL RELATIONS',), ('INTERNATIONAL BUSINESS',), ('INTERDISCIPLINARY SOCIAL SCIENCES',), ('INTERCULTURAL AND INTERNATIONAL STUDIES',), ('INFORMATION SCIENCES',), ('INDUSTRIAL PRODUCTION TECHNOLOGIES',), ('INDUSTRIAL AND ORGANIZATIONAL PSYCHOLOGY',), ('INDUSTRIAL AND MANUFACTURING ENGINEERING',), ('HUMANITIES',), ('HUMAN SERVICES AND COMMUNITY ORGANIZATION',), ('HUMAN RESOURCES AND PERSONNEL MANAGEMENT',), ('HOSPITALITY MANAGEMENT',), ('HISTORY',), ('HEALTH AND MEDICAL PREPARATORY PROGRAMS',), ('HEALTH AND MEDICAL ADMINISTRATIVE SERVICES',), ('GEOSCIENCES',), ('GEOLOGY AND EARTH SCIENCE',), ('GEOLOGICAL AND GEOPHYSICAL ENGINEERING',), ('GEOGRAPHY',), ('GENETICS',), ('GENERAL SOCIAL SCIENCES',), ('GENERAL MEDICAL AND HEALTH SERVICES',), ('GENERAL ENGINEERING',), ('GENERAL EDUCATION',), ('GENERAL BUSINESS',), ('GENERAL AGRICULTURE',), ('FRENCH GERMAN LATIN AND OTHER COMMON FOREIGN LANGUAGE STUDIES',), ('FORESTRY',), ('FOOD SCIENCE',), ('FINE ARTS',), ('FINANCE',), ('FILM VIDEO AND PHOTOGRAPHIC ARTS',), ('FAMILY AND CONSUMER SCIENCES',), ('ENVIRONMENTAL SCIENCE',), ('ENVIRONMENTAL ENGINEERING',), ('ENGLISH LANGUAGE AND LITERATURE',), ('ENGINEERING TECHNOLOGIES',), ('ENGINEERING MECHANICS PHYSICS AND SCIENCE',), ('ENGINEERING AND INDUSTRIAL MANAGEMENT',), ('ELEMENTARY EDUCATION',), ('ELECTRICAL, MECHANICAL, AND PRECISION TECHNOLOGIES AND PRODUCTION',), ('ELECTRICAL ENGINEERING TECHNOLOGY',), ('ELECTRICAL ENGINEERING',), ('EDUCATIONAL PSYCHOLOGY',), ('EDUCATIONAL ADMINISTRATION AND SUPERVISION',), ('ECONOMICS',), ('ECOLOGY',), ('EARLY CHILDHOOD EDUCATION',), ('DRAMA AND THEATER ARTS',), ('CRIMINOLOGY',), ('CRIMINAL JUSTICE AND FIRE PROTECTION',), ('COURT REPORTING',), ('COUNSELING PSYCHOLOGY',), ('COSMETOLOGY SERVICES AND CULINARY ARTS',), ('CONSTRUCTION SERVICES',), ('COMPUTER SCIENCE',), ('COMPUTER PROGRAMMING AND DATA PROCESSING',), ('COMPUTER NETWORKING AND TELECOMMUNICATIONS',), ('COMPUTER ENGINEERING',), ('COMPUTER AND INFORMATION SYSTEMS',), ('COMPUTER ADMINISTRATION MANAGEMENT AND SECURITY',), ('COMPOSITION AND RHETORIC',), ('COMMUNITY AND PUBLIC HEALTH',), ('COMMUNICATIONS',), ('COMMUNICATION TECHNOLOGIES',), ('COMMUNICATION DISORDERS SCIENCES AND SERVICES',), ('COMMERCIAL ART AND GRAPHIC DESIGN',), ('COGNITIVE SCIENCE AND BIOPSYCHOLOGY',), ('CLINICAL PSYCHOLOGY',), ('CIVIL ENGINEERING',), ('CHEMISTRY',), ('CHEMICAL ENGINEERING',), ('BUSINESS MANAGEMENT AND ADMINISTRATION',), ('BUSINESS ECONOMICS',), ('BOTANY',), ('BIOMEDICAL ENGINEERING',), ('BIOLOGY',), ('BIOLOGICAL ENGINEERING',), ('BIOCHEMICAL SCIENCES',), ('ATMOSPHERIC SCIENCES AND METEOROLOGY',), ('ASTRONOMY AND ASTROPHYSICS',), ('ART HISTORY AND CRITICISM',), ('ART AND MUSIC EDUCATION',), ('AREA ETHNIC AND CIVILIZATION STUDIES',), ('ARCHITECTURE',), ('ARCHITECTURAL ENGINEERING',), ('APPLIED MATHEMATICS',), ('ANTHROPOLOGY AND ARCHEOLOGY',), ('ANIMAL SCIENCES',), ('AGRICULTURE PRODUCTION AND MANAGEMENT',), ('AGRICULTURAL ECONOMICS',), ('AEROSPACE ENGINEERING',), ('ADVERTISING AND PUBLIC RELATIONS',), ('ACTUARIAL SCIENCE',), ('ACCOUNTING',)]\n"
     ]
    }
   ],
   "source": [
    "import sqlite3\n",
    "connexion=sqlite3.connect('jobs2.db')\n",
    "cursor= connexion.cursor()\n",
    "query= 'SELECT Major  FROM recent_grads ORDER BY Major DESC;'\n",
    "cursor.execute(query)\n",
    "result=cursor.execute(query).fetchall()\n",
    "print(result)\n",
    "connexion.close()"
   ]
  },
  {
   "cell_type": "code",
   "execution_count": 2,
   "metadata": {},
   "outputs": [
    {
     "name": "stdout",
     "output_type": "stream",
     "text": [
      "[(198, 'at', 'Ashmore and Cartier Islands', 5, 5, 0, None, None, None, None, None, '2015-11-01 13:36:08.110412', '2015-11-01 13:36:08.110412'), (201, 'cr', 'Coral Sea Islands', 3, 3, 0, None, None, None, None, None, '2015-11-01 13:36:14.538308', '2015-11-01 13:36:14.538308'), (202, 'hm', 'Heard Island and McDonald Islands', 412, 412, 0, None, None, None, None, None, '2015-11-01 13:36:16.132554', '2015-11-01 13:36:16.132554'), (208, 'ip', 'Clipperton Island', 6, 6, 0, None, None, None, None, None, '2015-11-01 13:36:36.882778', '2015-11-01 13:36:36.882778'), (210, 'fs', 'French Southern and Antarctic Lands', None, None, None, None, None, None, None, None, '2015-11-01 13:36:43.532683', '2015-11-01 13:36:43.532683'), (222, 'bv', 'Bouvet Island', 49, 49, 0, None, None, None, None, None, '2015-11-01 13:37:20.214829', '2015-11-01 13:37:20.214829'), (223, 'jn', 'Jan Mayen', 377, 377, 0, None, None, None, None, None, '2015-11-01 13:37:21.875600', '2015-11-01 13:37:21.875600'), (228, 'io', 'British Indian Ocean Territory', 54400, 60, 54340, None, None, None, None, None, '2015-11-01 13:37:35.922896', '2015-11-01 13:37:35.922896'), (240, 'sx', 'South Georgia and South Sandwich Islands', 3903, 3903, 0, None, None, None, None, None, '2015-11-01 13:38:13.551151', '2015-11-01 13:38:13.551151'), (244, 'bq', 'Navassa Island', 5, 5, 0, None, None, None, None, None, '2015-11-01 13:38:26.425234', '2015-11-01 13:38:26.425234')]\n"
     ]
    }
   ],
   "source": [
    "import sqlite3\n",
    "connexion=sqlite3.connect('factbook.db')\n",
    "c=connexion.cursor()\n",
    "c.execute('SELECT * FROM facts ORDER BY population ASC LIMIT 10;')\n",
    "result=c.fetchall()\n",
    "print(result)"
   ]
  }
 ],
 "metadata": {
  "kernelspec": {
   "display_name": "Python 3",
   "language": "python",
   "name": "python3"
  },
  "language_info": {
   "codemirror_mode": {
    "name": "ipython",
    "version": 3
   },
   "file_extension": ".py",
   "mimetype": "text/x-python",
   "name": "python",
   "nbconvert_exporter": "python",
   "pygments_lexer": "ipython3",
   "version": "3.7.3"
  }
 },
 "nbformat": 4,
 "nbformat_minor": 2
}
