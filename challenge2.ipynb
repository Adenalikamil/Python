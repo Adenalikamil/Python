{
 "cells": [
  {
   "cell_type": "code",
   "execution_count": 12,
   "metadata": {
    "tags": []
   },
   "outputs": [
    {
     "output_type": "stream",
     "name": "stdout",
     "text": "{'pop_avg': 62094928.32231405, 'pop_growth': 1.2009745762711865, 'birth_avg': 19.32855263157894, 'death_avg': 7.8212719298245625}\n"
    }
   ],
   "source": [
    "## Calcul de moynnes\n",
    "import pandas as pd \n",
    "import sqlite3\n",
    "\n",
    "connexion=sqlite3.connect('factbook.db')\n",
    "\n",
    "average=connexion.execute('select avg(population),avg(population_growth), avg(birth_rate), avg(death_rate) from facts;').fetchall()\n",
    "\n",
    "\n",
    "moyennes={'pop_avg':average[0][0], 'pop_growth':average[0][1],'birth_avg':average[0][2],'death_avg':average[0][3]\n",
    "}\n",
    "print(moyennes)"
   ]
  },
  {
   "cell_type": "code",
   "execution_count": 14,
   "metadata": {
    "tags": []
   },
   "outputs": [
    {
     "output_type": "stream",
     "name": "stdout",
     "text": "7256490011\n4.02\n45.45\n14.89\n"
    }
   ],
   "source": [
    "### Trouver les valeurs extremes\n",
    "## les valeurs minimums et maximums\n",
    "\n",
    "Max=connexion.execute('select max(population),max(population_growth),max(birth_rate),max(death_rate) from facts;').fetchall()\n",
    "\n",
    "pop_max=Max[0][0]\n",
    "pop_growth_max=Max[0][1]\n",
    "birth_rate_max=Max[0][2]\n",
    "death_rate_max=Max[0][3]\n",
    "\n",
    "print(pop_max)\n",
    "print(pop_growth_max)\n",
    "print(birth_rate_max)\n",
    "print(death_rate_max)\n",
    "\n",
    "\n",
    "\n"
   ]
  },
  {
   "cell_type": "code",
   "execution_count": 15,
   "metadata": {
    "tags": []
   },
   "outputs": [
    {
     "output_type": "stream",
     "name": "stdout",
     "text": "0\n0.0\n6.65\n1.53\n"
    }
   ],
   "source": [
    "Min=connexion.execute('select min(population),min(population_growth),min(birth_rate),min(death_rate) from facts;').fetchall()\n",
    "\n",
    "pop_min=Min[0][0]\n",
    "pop_growth_min=Min[0][1]\n",
    "birth_rate_min=Min[0][2]\n",
    "death_rate_min=Min[0][3]\n",
    "\n",
    "print(pop_min)\n",
    "print(pop_growth_min)\n",
    "print(birth_rate_min)\n",
    "print(death_rate_min)\n"
   ]
  },
  {
   "cell_type": "code",
   "execution_count": 19,
   "metadata": {},
   "outputs": [],
   "source": [
    "#\"\" Filtrer les valeurs\n",
    "\n",
    "max_result=connexion.execute('select max(population),max(population_growth),max(birth_rate),max(death_rate) from facts where population<2000000000 and population>0;').fetchall()\n",
    "\n",
    "min_result=connexion.execute('select min(population),min(population_growth),min(birth_rate),min(death_rate) from facts where population<2000000000 and population>0 ;').fetchall()\n",
    "\n",
    "min_table={'pop_avg_min':min_result[0][0], 'pop_growth_min':min_result[0][1],'birth_avg_min':min_result[0][2],'death_avg_min':min_result[0][3]\n",
    "}\n",
    "\n",
    "max_table={'pop_avg_max':max_result[0][0], 'pop_growth_max':max_result[0][1],'birth_avg_max':max_result[0][2],'death_avg_max':max_result[0][3]\n",
    "}\n"
   ]
  },
  {
   "cell_type": "code",
   "execution_count": 21,
   "metadata": {},
   "outputs": [
    {
     "output_type": "execute_result",
     "data": {
      "text/plain": "{'pop_avg_min': 48,\n 'pop_growth_min': 0.0,\n 'birth_avg_min': 6.65,\n 'death_avg_min': 1.53}"
     },
     "metadata": {},
     "execution_count": 21
    }
   ],
   "source": [
    "min_table"
   ]
  },
  {
   "cell_type": "code",
   "execution_count": 20,
   "metadata": {},
   "outputs": [
    {
     "output_type": "execute_result",
     "data": {
      "text/plain": "{'pop_avg_max': 1367485388,\n 'pop_growth_max': 4.02,\n 'birth_avg_max': 45.45,\n 'death_avg_max': 14.89}"
     },
     "metadata": {},
     "execution_count": 20
    }
   ],
   "source": [
    "max_table"
   ]
  },
  {
   "cell_type": "code",
   "execution_count": 31,
   "metadata": {
    "tags": []
   },
   "outputs": [
    {
     "output_type": "stream",
     "name": "stdout",
     "text": "[('Afghanistan', 33319835.0), ('Albania', 3038366.0), ('Algeria', 40269742.0), ('Andorra', 85683.0), ('Angola', 20170938.0), ('Antigua and Barbuda', 93582.0), ('Argentina', 43835803.0), ('Armenia', 3060967.0), ('Australia', 22994450.0), ('Austria', 8713211.0)]\n"
    }
   ],
   "source": [
    "## Prédire la future croissance démographique\n",
    "projected_population_query=\"SELECT name, ROUND(population+population*(population_growth/100),0) FROM facts WHERE population>0 and population<7000000000  and population IS NOT NULL AND population is not NULL;\"\n",
    "\n",
    "projected_population=connexion.execute(projected_population_query).fetchall()\n",
    "print(projected_population[0:10])"
   ]
  },
  {
   "cell_type": "code",
   "execution_count": 34,
   "metadata": {
    "tags": []
   },
   "outputs": [
    {
     "output_type": "stream",
     "name": "stdout",
     "text": "48.0\n1373639072.0\n33405469.2893617\n"
    }
   ],
   "source": [
    "## min, max et moyenne de l'estimation\n",
    "min_max_avg_query=\"SELECT min (ROUND(population+population*(population_growth/100),0)), max(ROUND(population+population*(population_growth/100),0)), avg(ROUND(population+population*(population_growth/100),0)) FROM facts WHERE population>0 and population<7000000000  and population IS NOT NULL AND population is not NULL;\"\n",
    "\n",
    "min_max_avg=connexion.execute(min_max_avg_query).fetchall()\n",
    "\n",
    "pop_proj_min=min_max_avg[0][0]\n",
    "pop_proj_max=min_max_avg[0][1]\n",
    "pop_proj_avg=min_max_avg[0][2]\n",
    "\n",
    "print(pop_proj_min)\n",
    "print(pop_proj_max)\n",
    "print(pop_proj_avg)"
   ]
  }
 ],
 "metadata": {
  "language_info": {
   "codemirror_mode": {
    "name": "ipython",
    "version": 3
   },
   "file_extension": ".py",
   "mimetype": "text/x-python",
   "name": "python",
   "nbconvert_exporter": "python",
   "pygments_lexer": "ipython3",
   "version": "3.7.5-final"
  },
  "orig_nbformat": 2,
  "kernelspec": {
   "name": "python3",
   "display_name": "Python 3"
  }
 },
 "nbformat": 4,
 "nbformat_minor": 2
}